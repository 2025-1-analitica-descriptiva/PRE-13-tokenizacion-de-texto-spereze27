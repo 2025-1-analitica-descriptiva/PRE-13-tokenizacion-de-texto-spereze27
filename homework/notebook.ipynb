{
 "cells": [
  {
   "cell_type": "code",
   "execution_count": 1,
   "id": "d17ecbd3",
   "metadata": {},
   "outputs": [
    {
     "name": "stdout",
     "output_type": "stream",
     "text": [
      "../files/input\\file1.txt  It is essential to develop non-precious metal-based alternatives used \n",
      "../files/input\\file2.txt  Electric vehicles are gaining global popularity lately, and along with\n",
      "../files/input\\file3.txt  Global solar irradiation is an important variable that can be used to \n"
     ]
    }
   ],
   "source": [
    "# %%\n",
    "# Carga de datos\n",
    "import glob\n",
    "\n",
    "\n",
    "def load_data(input_directory):\n",
    "\n",
    "    sequence = []\n",
    "    files = glob.glob(f\"{input_directory}/*\")\n",
    "    for file in files:\n",
    "        with open(file, \"rt\", encoding=\"utf-8\") as f:\n",
    "            raw_text = f.read()\n",
    "            sequence.append((file, raw_text))\n",
    "    return sequence\n",
    "\n",
    "\n",
    "sequence = load_data(input_directory=\"../files/input\")\n",
    "for file, text in sequence:\n",
    "    print(f\"{file}  {text[:70]}\")\n",
    "    \n",
    "    \n",
    "\n",
    "\n",
    "\n",
    "\n",
    "\n",
    "\n"
   ]
  },
  {
   "cell_type": "code",
   "execution_count": 2,
   "id": "2174d675",
   "metadata": {},
   "outputs": [
    {
     "name": "stdout",
     "output_type": "stream",
     "text": [
      "../files/input\\file1.txt  it is essential to develop non-precious metal-based alternatives used \n",
      "../files/input\\file2.txt  electric vehicles are gaining global popularity lately, and along with\n",
      "../files/input\\file3.txt  global solar irradiation is an important variable that can be used to \n"
     ]
    }
   ],
   "source": [
    "# Clean text\n",
    "import re\n",
    "\n",
    "\n",
    "def clean_text(sequence):\n",
    "    cleaned_sequence = []\n",
    "    for file, text in sequence:\n",
    "        cleaned_text = re.sub(r\"\\n\", \" \", text)\n",
    "        cleaned_text = re.sub(r\"\\s+\", \" \", cleaned_text)\n",
    "        cleaned_text = cleaned_text.strip()\n",
    "        cleaned_text = cleaned_text.lower()\n",
    "        cleaned_sequence.append((file, cleaned_text))\n",
    "    return cleaned_sequence\n",
    "\n",
    "\n",
    "sequence = load_data(input_directory=\"../files/input\")\n",
    "cleaned_sequence = clean_text(sequence)\n",
    "for file, text in cleaned_sequence:\n",
    "    print(f\"{file}  {text[:70]}\")"
   ]
  },
  {
   "cell_type": "code",
   "execution_count": null,
   "id": "548b7e7f",
   "metadata": {},
   "outputs": [],
   "source": []
  }
 ],
 "metadata": {
  "kernelspec": {
   "display_name": ".venv",
   "language": "python",
   "name": "python3"
  },
  "language_info": {
   "codemirror_mode": {
    "name": "ipython",
    "version": 3
   },
   "file_extension": ".py",
   "mimetype": "text/x-python",
   "name": "python",
   "nbconvert_exporter": "python",
   "pygments_lexer": "ipython3",
   "version": "3.10.11"
  }
 },
 "nbformat": 4,
 "nbformat_minor": 5
}
